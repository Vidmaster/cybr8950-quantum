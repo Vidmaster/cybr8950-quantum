{
 "cells": [
  {
   "cell_type": "code",
   "execution_count": 2,
   "id": "novel-parliament",
   "metadata": {},
   "outputs": [
    {
     "name": "stdout",
     "output_type": "stream",
     "text": [
      "Imports Successful\n"
     ]
    },
    {
     "data": {
      "text/plain": [
       "[<IBMQSimulator('ibmq_qasm_simulator') from IBMQ(hub='ibm-q', group='open', project='main')>,\n",
       " <IBMQBackend('ibmqx2') from IBMQ(hub='ibm-q', group='open', project='main')>,\n",
       " <IBMQBackend('ibmq_16_melbourne') from IBMQ(hub='ibm-q', group='open', project='main')>,\n",
       " <IBMQBackend('ibmq_armonk') from IBMQ(hub='ibm-q', group='open', project='main')>,\n",
       " <IBMQBackend('ibmq_athens') from IBMQ(hub='ibm-q', group='open', project='main')>,\n",
       " <IBMQBackend('ibmq_santiago') from IBMQ(hub='ibm-q', group='open', project='main')>,\n",
       " <IBMQBackend('ibmq_lima') from IBMQ(hub='ibm-q', group='open', project='main')>,\n",
       " <IBMQBackend('ibmq_belem') from IBMQ(hub='ibm-q', group='open', project='main')>,\n",
       " <IBMQBackend('ibmq_quito') from IBMQ(hub='ibm-q', group='open', project='main')>,\n",
       " <IBMQSimulator('simulator_statevector') from IBMQ(hub='ibm-q', group='open', project='main')>,\n",
       " <IBMQSimulator('simulator_mps') from IBMQ(hub='ibm-q', group='open', project='main')>,\n",
       " <IBMQSimulator('simulator_extended_stabilizer') from IBMQ(hub='ibm-q', group='open', project='main')>,\n",
       " <IBMQSimulator('simulator_stabilizer') from IBMQ(hub='ibm-q', group='open', project='main')>]"
      ]
     },
     "execution_count": 2,
     "metadata": {},
     "output_type": "execute_result"
    }
   ],
   "source": [
    "# This example is based on the tutorial found at https://qiskit.org/textbook/ch-algorithms/quantum-key-distribution.html\n",
    "\n",
    "import numpy as np\n",
    "from qiskit import(QuantumCircuit, execute, Aer, IBMQ, assemble, transpile)\n",
    "from qiskit.visualization import plot_histogram, plot_bloch_multivector\n",
    "from qiskit.providers.ibmq.job import job_monitor\n",
    "from numpy.random import randint\n",
    "print(\"Imports Successful\")\n",
    "# Uncomment when we need to use the actual quantum backends\n",
    "# provider = IBMQ.load_account()\n",
    "# provider.backends()"
   ]
  },
  {
   "cell_type": "code",
   "execution_count": 15,
   "id": "proud-bruce",
   "metadata": {},
   "outputs": [],
   "source": [
    "def encode_message(bits, bases):\n",
    "    message = []\n",
    "    for i in range(n):\n",
    "        qc = QuantumCircuit(1,1)\n",
    "        if bases[i] == 0: # Prepare qubit in Z-basis\n",
    "            if bits[i] == 0:\n",
    "                pass \n",
    "            else:\n",
    "                qc.x(0)\n",
    "        else: # Prepare qubit in X-basis\n",
    "            if bits[i] == 0:\n",
    "                qc.h(0)\n",
    "            else:\n",
    "                qc.x(0)\n",
    "                qc.h(0)\n",
    "        qc.barrier()\n",
    "        message.append(qc)\n",
    "    return message\n",
    "\n",
    "def measure_message(message, bases):\n",
    "    backend = Aer.get_backend('qasm_simulator')\n",
    "    measurements = []\n",
    "    for q in range(n):\n",
    "        if bases[q] == 0: # measuring in Z-basis\n",
    "            message[q].measure(0,0)\n",
    "        if bases[q] == 1: # measuring in X-basis\n",
    "            message[q].h(0)\n",
    "            message[q].measure(0,0)\n",
    "        qasm_sim = Aer.get_backend('qasm_simulator')\n",
    "        qobj = assemble(message[q], shots=1, memory=True)\n",
    "        result = qasm_sim.run(qobj).result()\n",
    "        measured_bit = int(result.get_memory()[0])\n",
    "        measurements.append(measured_bit)\n",
    "    return measurements\n",
    "\n",
    "def remove_garbage(a_bases, b_bases, bits):\n",
    "    good_bits = []\n",
    "    for q in range(n):\n",
    "        if a_bases[q] == b_bases[q]:\n",
    "            # If both used the same basis, add\n",
    "            # this to the list of 'good' bits\n",
    "            good_bits.append(bits[q])\n",
    "    return good_bits\n",
    "\n",
    "def sample_bits(bits, selection):\n",
    "    sample = []\n",
    "    for i in selection:\n",
    "        # use np.mod to make sure the\n",
    "        # bit we sample is always in \n",
    "        # the list range\n",
    "        i = np.mod(i, len(bits))\n",
    "        # pop(i) removes the element of the\n",
    "        # list at index 'i'\n",
    "        sample.append(bits.pop(i))\n",
    "    return sample"
   ]
  },
  {
   "cell_type": "code",
   "execution_count": 19,
   "id": "separated-retailer",
   "metadata": {},
   "outputs": [
    {
     "name": "stdout",
     "output_type": "stream",
     "text": [
      "  bob_sample = [0, 1, 0, 1, 1, 0, 0, 0, 1, 0, 1, 0, 0, 1, 1]\n",
      "alice_sample = [0, 1, 0, 1, 1, 0, 0, 0, 1, 0, 1, 0, 0, 1, 1]\n",
      "[0, 1, 0, 1, 1, 1, 0, 0, 0, 0, 1, 0, 1, 1, 0, 0, 1, 1, 0, 0, 1, 0, 1, 0, 1, 1, 0, 1, 1, 0, 1, 1, 0, 0, 0, 0, 0, 1, 0, 1, 1, 0, 1, 1, 1, 1, 1, 0, 0, 1, 0, 0, 1, 1, 0, 0, 0, 0, 1, 0, 1, 1, 1, 1, 1, 1, 1, 1, 1, 0, 0, 0, 1, 1, 0, 1, 1, 0, 0, 1, 0, 0, 1, 1, 0, 0, 0, 0, 1, 0, 0, 0, 0, 0, 0, 0, 0, 0, 0, 0, 1, 0, 0, 0, 0, 1, 0, 0, 1, 1, 0, 1, 1, 1, 0, 0, 1, 1, 1, 0, 1, 1, 1, 1, 1, 1, 0, 1, 1, 0, 1, 1, 1, 1, 1, 0, 0, 1, 1, 0, 0, 1, 0, 1, 0, 1, 1, 1, 1, 0, 1, 1, 0, 1, 1]\n",
      "[0, 1, 0, 1, 1, 1, 0, 0, 0, 0, 1, 0, 1, 1, 0, 0, 1, 1, 0, 0, 1, 0, 1, 0, 1, 1, 0, 1, 1, 0, 1, 1, 0, 0, 0, 0, 0, 1, 0, 1, 1, 0, 1, 1, 1, 1, 1, 0, 0, 1, 0, 0, 1, 1, 0, 0, 0, 0, 1, 0, 1, 1, 1, 1, 1, 1, 1, 1, 1, 0, 0, 0, 1, 1, 0, 1, 1, 0, 0, 1, 0, 0, 1, 1, 0, 0, 0, 0, 1, 0, 0, 0, 0, 0, 0, 0, 0, 0, 0, 0, 1, 0, 0, 0, 0, 1, 0, 0, 1, 1, 0, 1, 1, 1, 0, 0, 1, 1, 1, 0, 1, 1, 1, 1, 1, 1, 0, 1, 1, 0, 1, 1, 1, 1, 1, 0, 0, 1, 1, 0, 0, 1, 0, 1, 0, 1, 1, 1, 1, 0, 1, 1, 0, 1, 1]\n",
      "Generated key length = 155\n"
     ]
    }
   ],
   "source": [
    "# np.random.seed(seed=0) # This makes the results reproducible, otherwise remove the seed for more random behavior\n",
    "desired_key_length = 128 # As appropriate for data size and algorithm used\n",
    "sample_size = 15    # This value can be increased or decreased to affect the chance of finding an eavesdropper \n",
    "# With roughly 50% efficiency of transmission, this should produce the desired key length and number of check bits with some buffer to be safe\n",
    "n = (desired_key_length * 2) + (sample_size * 4) \n",
    "\n",
    "## Step 1\n",
    "# Alice generates bits\n",
    "alice_bits = randint(2, size=n)\n",
    "\n",
    "## Step 2\n",
    "# Create an array to tell us which qubits\n",
    "# are encoded in which bases\n",
    "alice_bases = randint(2, size=n)\n",
    "message = encode_message(alice_bits, alice_bases)\n",
    "\n",
    "## Step 3\n",
    "# Decide which basis to measure in:\n",
    "bob_bases = randint(2, size=n)\n",
    "bob_results = measure_message(message, bob_bases)\n",
    "\n",
    "## Step 4\n",
    "alice_key = remove_garbage(alice_bases, bob_bases, alice_bits)\n",
    "bob_key = remove_garbage(alice_bases, bob_bases, bob_results)\n",
    "\n",
    "## Step 5\n",
    "bit_selection = randint(n, size=sample_size)\n",
    "\n",
    "bob_sample = sample_bits(bob_key, bit_selection)\n",
    "print(\"  bob_sample = \" + str(bob_sample))\n",
    "alice_sample = sample_bits(alice_key, bit_selection)\n",
    "print(\"alice_sample = \"+ str(alice_sample))\n",
    "\n",
    "print(bob_key)\n",
    "print(alice_key)\n",
    "print(\"Generated key length = %i\" % len(alice_key))"
   ]
  },
  {
   "cell_type": "code",
   "execution_count": null,
   "id": "celtic-radiation",
   "metadata": {},
   "outputs": [],
   "source": [
    "From \"Quantum Symmetric Cryptosystem Based on Algebraic Codes\", Ali Amerimehr and Massoud Hadian Dehkordi, 2018\n",
    "\n",
    "Encryption: \n",
    "Step 1: Alice computes x := mG\u0006k obtaining the messagebits,\n",
    "and prepares a train of qubits according to x called Qx.\n",
    "She uses random bases for preparing the qubits.\n",
    "\n",
    "Step 2: Alice computes h := hk(m), and prepares a\n",
    "train of qubits according to h called Qh. The base string\n",
    "{B1,B2, . . .,Br}, used by Alice to prepare Qh, is considered\n",
    "according to g(x). The rule is that Bj = BZ if the j-th bit of\n",
    "g(x) is zero, and Bj = BX otherwise.\n",
    "\n",
    "Step 3: Alice mixes Qx and Qh together according to f(k)\n",
    "obtaining Qy, and then sends Qy to Bob."
   ]
  },
  {
   "cell_type": "code",
   "execution_count": 18,
   "id": "ranging-married",
   "metadata": {},
   "outputs": [
    {
     "name": "stdout",
     "output_type": "stream",
     "text": [
      "b'\\x1a\\x12\\x80\\x0edP\\xa8(\\xa5\\xff\\x8e\\xfc\\xd6|6X\\xffTE\\x04\\xb4'\n",
      "b'\\x02\\xdd\\xba\\xd9m\\xa2d\\x12Q\\xc1\\x92y\\x10\\x05\\x1d\\xd6\\xbdA\\x18\\x03\\xdb\\x97b\\xe8\\xe2\\x14 \\x81\\nv\\x03k'\n"
     ]
    }
   ],
   "source": [
    "from reedsolo import RSCodec, ReedSolomonError\n",
    "import hashlib, hmac\n",
    "import secrets\n",
    "\n",
    "hash_key = secrets.token_bytes(16)\n",
    "hash_function = hmac.new(hash_key, digestmod='sha256')\n",
    "rsc = RSCodec(10)\n",
    "\n",
    "message = b'hello world'\n",
    "\n",
    "ecc_encoded = rsc.encode(message)\n",
    "preshared_key = secrets.token_bytes(len(eccEncoded))\n",
    "\n",
    "alice_message = bytes(a ^ b for (a, b) in zip(eccEncoded, presharedKey))\n",
    "hash_function.update(alice_message)\n",
    "alice_hash = hash_function.digest()\n",
    "\n",
    "print(alice_message)\n",
    "print(alice_hash)\n",
    "\n"
   ]
  },
  {
   "cell_type": "code",
   "execution_count": null,
   "id": "administrative-amber",
   "metadata": {},
   "outputs": [],
   "source": [
    "Decryption:\n",
    "\n",
    "Step 1: Bob receives Qy, and extracts Qx and Qh according\n",
    "to f(k). Then he measures all qubits of Qx in BY basis\n",
    "obtaining x\u0003, and stores Qh.\n",
    "\n",
    "Step 2: Bob computes m\u0003 := x\u0003 \u0006 k, and runs a decoding\n",
    "algorithm to obtain the message m. (Note that m\u0003 = mG\u0006e,\n",
    "where e is an error vector arised from Bob’s measurement).\n",
    "If the error rate is lower than the threshold, he obtains m.\n",
    "Otherwise, he rejects the communication.\n",
    "\n",
    "Step 3: Bob first measures the qubits of Qh in the the correct\n",
    "bases according to g(x) obtaining h\u0003. Then he computes h.\n",
    "If h = h\u0003, Bob concludes the message m is valid, and\n",
    "Alice is legal decisively. Otherwise, Bob does not validate m\n",
    "(if the quantum channel is noisy d(h, h\u0003) \u0007 r\u0006 implies Alice’s\n",
    "legitimacy, where \u0006 is the QBER1 of the channel)"
   ]
  },
  {
   "cell_type": "code",
   "execution_count": 30,
   "id": "anticipated-techno",
   "metadata": {},
   "outputs": [
    {
     "name": "stdout",
     "output_type": "stream",
     "text": [
      "240\n",
      "0b10110\n",
      "b'\\xf0'\n",
      "00011010\n",
      "00010010\n",
      "10000000\n",
      "00001110\n",
      "01100100\n",
      "01010000\n",
      "10101000\n",
      "00101000\n",
      "10100101\n",
      "11111111\n",
      "10001110\n",
      "11111100\n",
      "11010110\n",
      "01111100\n",
      "00110110\n",
      "01011000\n",
      "11111111\n",
      "01010100\n",
      "01000101\n",
      "00000100\n",
      "10110100\n"
     ]
    }
   ],
   "source": [
    "# Working with Binary here:\n",
    "one_byte = int('11110000', 2)\n",
    "print(one_byte)\n",
    "\n",
    "print(bin(22)) # print the binary string for a value\n",
    "\n",
    "single_byte = one_byte.to_bytes(1, byteorder='big', signed=False) \n",
    "print(single_byte)\n",
    "\n",
    "for i in alice_message:\n",
    "    print(bin(i)[2:].zfill(8))"
   ]
  },
  {
   "cell_type": "code",
   "execution_count": 40,
   "id": "classified-particle",
   "metadata": {},
   "outputs": [
    {
     "name": "stdout",
     "output_type": "stream",
     "text": [
      "1.4008778720678356\n"
     ]
    }
   ],
   "source": [
    "from math import sqrt, atan, pi\n",
    "\n",
    "bob_alpha = sqrt(2 + sqrt(2))/2\n",
    "bob_beta = sqrt(2 - sqrt(2))/2\n",
    "\n",
    "# For Bob's basis, w0 = alpha 0 + beta 1, w1 = alpha 0 - beta 1\n",
    "bam = bob_alpha ** 2\n",
    "bbm = bob_beta ** 2\n",
    "bob_w0 = atan(bbm/bam)\n",
    "bob_w1 = atan(bam/bbm)\n",
    "print(bob_w1)\n",
    "bob_22p5_degrees = 0.3926991\n",
    "\n",
    "# Bob needs a measurement function to measure in this basis\n",
    "def bob_measure_message(message):\n",
    "    backend = Aer.get_backend('qasm_simulator')\n",
    "    measurements = []\n",
    "    for q in range(n):\n",
    "        message[q].rz(pi/8)\n",
    "        message[q].measure(0,0)\n",
    "        qasm_sim = Aer.get_backend('qasm_simulator')\n",
    "        qobj = assemble(message[q], shots=1, memory=True)\n",
    "        result = qasm_sim.run(qobj).result()\n",
    "        measured_bit = int(result.get_memory()[0])\n",
    "        measurements.append(measured_bit)\n",
    "    return measurements"
   ]
  },
  {
   "cell_type": "code",
   "execution_count": null,
   "id": "normal-melbourne",
   "metadata": {},
   "outputs": [],
   "source": []
  }
 ],
 "metadata": {
  "kernelspec": {
   "display_name": "Python 3",
   "language": "python",
   "name": "python3"
  },
  "language_info": {
   "codemirror_mode": {
    "name": "ipython",
    "version": 3
   },
   "file_extension": ".py",
   "mimetype": "text/x-python",
   "name": "python",
   "nbconvert_exporter": "python",
   "pygments_lexer": "ipython3",
   "version": "3.9.1"
  }
 },
 "nbformat": 4,
 "nbformat_minor": 5
}
