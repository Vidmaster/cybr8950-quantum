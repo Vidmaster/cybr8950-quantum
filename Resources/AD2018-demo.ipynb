{
 "cells": [
  {
   "cell_type": "code",
   "execution_count": 1,
   "id": "advised-belfast",
   "metadata": {},
   "outputs": [
    {
     "name": "stdout",
     "output_type": "stream",
     "text": [
      "Imports Successful\n"
     ]
    }
   ],
   "source": [
    "import numpy as np\n",
    "from numpy import array, inf\n",
    "from numpy.random import randint, randn, seed\n",
    "from math import pi\n",
    "from qiskit import(QuantumCircuit, execute, Aer, IBMQ, assemble, transpile)\n",
    "from qiskit.visualization import plot_histogram, plot_bloch_multivector\n",
    "from qiskit.providers.ibmq.job import job_monitor\n",
    "from commpy.channelcoding.convcode import Trellis, conv_encode, viterbi_decode\n",
    "import hashlib, hmac\n",
    "import secrets\n",
    "from Crypto.Cipher import Salsa20\n",
    "\n",
    "print(\"Imports Successful\")\n",
    "# Uncomment if we need to use the actual quantum backends\n",
    "# provider = IBMQ.load_account()\n",
    "# provider.backends()"
   ]
  },
  {
   "cell_type": "code",
   "execution_count": 67,
   "id": "respective-hometown",
   "metadata": {},
   "outputs": [],
   "source": [
    "# Helper functions for BB84 QKD - partially copied from https://qiskit.org/textbook/ch-algorithms/quantum-key-distribution.html\n",
    "def encode_message(bits, bases):\n",
    "    message = []\n",
    "    for i in range(len(bases)):\n",
    "        qc = QuantumCircuit(1,1)\n",
    "        if bases[i] == 0: # Prepare qubit in Z-basis\n",
    "            if bits[i] == 0:\n",
    "                pass \n",
    "            else:\n",
    "                qc.x(0)\n",
    "        else: # Prepare qubit in X-basis\n",
    "            if bits[i] == 0:\n",
    "                qc.h(0)\n",
    "            else:\n",
    "                qc.x(0)\n",
    "                qc.h(0)\n",
    "        qc.barrier()\n",
    "        message.append(qc)\n",
    "    return message\n",
    "\n",
    "def measure_message(message, bases):\n",
    "    backend = Aer.get_backend('qasm_simulator')\n",
    "    measurements = []\n",
    "    for q in range(len(bases)):\n",
    "        if bases[q] == 0: # measuring in Z-basis\n",
    "            message[q].measure(0,0)\n",
    "        if bases[q] == 1: # measuring in X-basis\n",
    "            message[q].h(0)\n",
    "            message[q].measure(0,0)\n",
    "        qasm_sim = Aer.get_backend('qasm_simulator')\n",
    "        qobj = assemble(message[q], shots=1, memory=True)\n",
    "        result = qasm_sim.run(qobj).result()\n",
    "        measured_bit = int(result.get_memory()[0])\n",
    "        measurements.append(measured_bit)\n",
    "    return measurements\n",
    "\n",
    "def remove_garbage(a_bases, b_bases, bits):\n",
    "    good_bits = []\n",
    "    for q in range(len(a_bases)):\n",
    "        if a_bases[q] == b_bases[q]:\n",
    "            # If both used the same basis, add\n",
    "            # this to the list of 'good' bits\n",
    "            good_bits.append(bits[q])\n",
    "    return good_bits\n",
    "\n",
    "def sample_bits(bits, selection):\n",
    "    sample = []\n",
    "    for i in selection:\n",
    "        # use np.mod to make sure the\n",
    "        # bit we sample is always in \n",
    "        # the list range\n",
    "        i = np.mod(i, len(bits))\n",
    "        # pop(i) removes the element of the\n",
    "        # list at index 'i'\n",
    "        sample.append(bits.pop(i))\n",
    "    return sample\n",
    "\n",
    "# Original helper functions\n",
    "def bits_to_byte_array(bits):\n",
    "    if ((len(bits) % 8) != 0):\n",
    "        raise RuntimeError('Bits length must be a multiple of 8')\n",
    "    byte_str = \"\".join(str(bit) for bit in bits)\n",
    "    return int(byte_str, 2).to_bytes(len(byte_str) // 8, byteorder='big')\n",
    "\n",
    "def byte_array_to_bits(byte_arr):\n",
    "    bits = []\n",
    "    for i in byte_arr:\n",
    "        binary = bin(i)[2:].zfill(8)\n",
    "        for b in binary:\n",
    "            bits.append(int(b))\n",
    "    \n",
    "    return bits\n",
    "\n",
    "def bb84_qkd(desired_key_length, eavesdropper_detection_sample_size):\n",
    "    if ((desired_key_length % 8) != 0):\n",
    "        raise RuntimeError('Key length must be a multiple of 8')\n",
    "        \n",
    "    n = (desired_key_length * 2) + (eavesdropper_detection_sample_size * 6) \n",
    "    bob_key = []\n",
    "    \n",
    "    while (len(bob_key) < desired_key_length):\n",
    "        alice_bits = randint(2, size=n)\n",
    "        alice_bases = randint(2, size=n)\n",
    "\n",
    "        # Pretend the message is transmitted here\n",
    "        message = encode_message(alice_bits, alice_bases)\n",
    "\n",
    "        bob_bases = randint(2, size=n)\n",
    "        bob_results = measure_message(message, bob_bases)\n",
    "\n",
    "        # Pretend Alice and Bob's bases were shared here\n",
    "        alice_key = remove_garbage(alice_bases, bob_bases, alice_bits)\n",
    "        bob_key = remove_garbage(alice_bases, bob_bases, bob_results)\n",
    "\n",
    "        # Pretend the selection of random sample bits was shared here\n",
    "        bit_selection = randint(n, size=eavesdropper_detection_sample_size)\n",
    "        \n",
    "        bob_sample = sample_bits(bob_key, bit_selection)\n",
    "        alice_sample = sample_bits(alice_key, bit_selection)\n",
    "\n",
    "        if (bob_sample != alice_sample):\n",
    "            print(\"Eavesdropper detected! Reattempt key distribution on a different quantum channel.\")\n",
    "            raise RuntimeError\n",
    "    return bits_to_byte_array(bob_key[0:desired_key_length])\n",
    "  \n",
    "def calculate_hash_bases(key, length):\n",
    "    # Secure option: Produce <length> bits of data using the key and a fixed value with some cipher.\n",
    "    # Paper option: x0+x4 (mod 2)\n",
    "    # Simple option: Just use the key directly and loop through it until length is reached using key bits as 0 = +, 1 = X.\n",
    "    hash_bases = []\n",
    "    bit_key = byte_array_to_bits(key)\n",
    "    for i in range(length):\n",
    "        hash_bases.append(int(bit_key[i % len(bit_key)]))\n",
    "    return hash_bases\n",
    "\n",
    "def mix_message_and_hash(key, message, hashed):\n",
    "    # Simplest option: Just concatenate the two, hash + message or alternate or something\n",
    "    # Paper option: Uses only one hash bit and calculates sum(ki * 2^i mod n) for 0..n to determine its position\n",
    "    # Better option: Hmmm - message is probably longer than the hash, but the hash length is fixed so len(message) = len(received) - len(hash). Use key to encrypt something of right length then ???\n",
    "    mixed = []\n",
    "    for x in hashed:\n",
    "        mixed.append(x)\n",
    "    for x in message:\n",
    "        mixed.append(x)\n",
    "    return mixed\n",
    "\n",
    "def unmix_message_and_hash(key, mixed, hash_length):\n",
    "    return (mixed[0:hash_length], mixed[hash_length:])\n",
    "\n",
    "# Bob uses a special measurement function to measure in the omega basis\n",
    "def bob_measure_message(message):\n",
    "    backend = Aer.get_backend('qasm_simulator')\n",
    "    measurements = []\n",
    "    for q in range(len(message)):\n",
    "        message[q].rz(-pi/8,0)\n",
    "        message[q].measure(0,0)\n",
    "        qasm_sim = Aer.get_backend('qasm_simulator')\n",
    "        qobj = assemble(message[q], shots=1, memory=True)\n",
    "        result = qasm_sim.run(qobj).result()\n",
    "        measured_bit = int(result.get_memory()[0])\n",
    "        measurements.append(measured_bit)\n",
    "    return measurements\n",
    "\n",
    "# Properties for convolutional ECC - Reference https://commpy.readthedocs.io/en/latest/channelcoding.html\n",
    "x = 10\n",
    "memory = array([x])\n",
    "g_matrix = array([[5, 3, 7, 1]])\n",
    "ecc_trellis = Trellis(memory, g_matrix, code_type='default')\n",
    "\n",
    "def convolutional_ecc_encode(message):\n",
    "    msg_bits = byte_array_to_bits(message)\n",
    "    coded_bits = conv_encode(msg_bits, ecc_trellis)\n",
    "    return coded_bits\n",
    "                        \n",
    "def convolutional_ecc_decode(coded_bits):                    \n",
    "    decoded_bits = viterbi_decode(coded_bits.astype(float), ecc_trellis)\n",
    "    decoded_msg = bits_to_byte_array(decoded_bits[:-x])\n",
    "    return decoded_msg\n",
    "    \n",
    "    \n",
    "def ad_2018(message, preshared_key):\n",
    "    # Salsa20 is a stream cipher which will basically take the short preshared key and expand it to a long one-time-pad equivalent for XORing\n",
    "    cipher = Salsa20.new(key=preshared_key) \n",
    "    \n",
    "    # This 8-byte nonce must be shared with Bob\n",
    "    nonce = cipher.nonce\n",
    "    encrypted = cipher.encrypt(message) \n",
    "\n",
    "    # Alice adds ECC to her message using a convolutional code\n",
    "    alice_message = convolutional_ecc_encode(encrypted)\n",
    "\n",
    "    # expanded_key = secrets.token_bytes(len(ecc_encoded))\n",
    "    # alice_message = bytes(a ^ b for (a, b) in zip(ecc_encoded, preshared_key))\n",
    "\n",
    "    # Alice prepares a keyed hash of her message\n",
    "    hash_key = secrets.token_bytes(16) # Or bb84_qkd(128,16) or other protocol\n",
    "    hash_function = hmac.new(hash_key, message, digestmod='md5') # Not a secure hash function but used here as it's a short hash\n",
    "    alice_hash = hash_function.digest()\n",
    "\n",
    "    # print(alice_message)\n",
    "    # print(\"ECC Coded length: %i\" % len(alice_message))\n",
    "    # print(alice_hash)\n",
    "    # print(len(alice_hash))\n",
    "\n",
    "    # Alice mixes the bits of her message and hash according to some function f(k) based on the preshared key\n",
    "    # then transmits message bits in random basis and hash bits in a basis given by g(k) based on the preshared key\n",
    "    alice_message_bases = randint(2, size=len(alice_message))\n",
    "    alice_hash_bases = calculate_hash_bases(preshared_key, len(alice_hash) * 8)\n",
    "\n",
    "    alice_transmission_bases = mix_message_and_hash(preshared_key, alice_message_bases, alice_hash_bases)\n",
    "    alice_transmission_bits = mix_message_and_hash(preshared_key, alice_message, byte_array_to_bits(alice_hash))\n",
    "    # print(alice_transmission_bases)\n",
    "    # print(alice_transmission_bits)\n",
    "\n",
    "    encoded_message = encode_message(alice_transmission_bits, alice_transmission_bases)\n",
    "    \n",
    "    unmixed = unmix_message_and_hash(preshared_key, encoded_message, len(alice_hash)*8)\n",
    "    hash_qubits = unmixed[0]\n",
    "    message_qubits = unmixed[1]\n",
    "    # print(hash_qubits)\n",
    "    # print(message_qubits)\n",
    "    bob_received_message = bob_measure_message(message_qubits)\n",
    "\n",
    "    bob_hash_bases = calculate_hash_bases(preshared_key, len(alice_hash) * 8)\n",
    "    bob_received_hash = bits_to_byte_array(measure_message(hash_qubits, bob_hash_bases))\n",
    "\n",
    "    boblen = len(bob_received_message)\n",
    "    for i in range(boblen-x, boblen):\n",
    "        bob_received_message[i] = 0\n",
    "    # print(array(bob_received_message))\n",
    "\n",
    "    ecc_decoded = convolutional_ecc_decode(array(bob_received_message))\n",
    "    # print(ecc_decoded)\n",
    "    # print(encrypted)\n",
    "\n",
    "    cipher = Salsa20.new(preshared_key, nonce=nonce)\n",
    "    decrypted = cipher.decrypt(ecc_decoded)\n",
    "    # print(decrypted)\n",
    "\n",
    "    hash_function = hmac.new(hash_key, decrypted, digestmod='md5')\n",
    "    bob_hash = hash_function.digest()\n",
    "    # print(bob_hash)\n",
    "    # print(bob_received_hash)\n",
    "    match = hmac.compare_digest(bob_hash, bob_received_hash)\n",
    "    # print(\"Is message verified? %s\" % match)\n",
    "    return match"
   ]
  },
  {
   "cell_type": "code",
   "execution_count": 3,
   "id": "lyric-fifth",
   "metadata": {},
   "outputs": [
    {
     "name": "stdout",
     "output_type": "stream",
     "text": [
      "Generated key is: b'j\\x19m\\xe93\\x15\\x02\\x17\\xef\\xe0\\x1aJ.\\x9aE\\xc6'\n"
     ]
    }
   ],
   "source": [
    "# Simplified BB84 key exchange - call one method and it produces a byte key of the desired length\n",
    "exchanged_key = bb84_qkd(128, 16)\n",
    "print(\"Generated key is: %s\" % exchanged_key)"
   ]
  },
  {
   "cell_type": "raw",
   "id": "civilian-visitor",
   "metadata": {},
   "source": [
    "From \"Quantum Symmetric Cryptosystem Based on Algebraic Codes\", Ali Amerimehr and Massoud Hadian Dehkordi, 2018\n",
    "\n",
    "Encryption: \n",
    "Step 1: Alice computes x := mG\u0006k obtaining the messagebits,\n",
    "and prepares a train of qubits according to x called Qx.\n",
    "She uses random bases for preparing the qubits.\n",
    "\n",
    "Step 2: Alice computes h := hk(m), and prepares a\n",
    "train of qubits according to h called Qh. The base string\n",
    "{B1,B2, . . .,Br}, used by Alice to prepare Qh, is considered\n",
    "according to g(x). The rule is that Bj = BZ if the j-th bit of\n",
    "g(x) is zero, and Bj = BX otherwise.\n",
    "\n",
    "Step 3: Alice mixes Qx and Qh together according to f(k)\n",
    "obtaining Qy, and then sends Qy to Bob."
   ]
  },
  {
   "cell_type": "code",
   "execution_count": 105,
   "id": "above-bathroom",
   "metadata": {},
   "outputs": [
    {
     "name": "stdout",
     "output_type": "stream",
     "text": [
      "b'S:\\x14'\n",
      "ECC Coded length: 324\n"
     ]
    }
   ],
   "source": [
    "message = b'Hey'\n",
    "\n",
    "# Using a preshared key produced with BB84 or some other key exchange protocol, Alice encrypts her message\n",
    "preshared_key = bb84_qkd(128,16)\n",
    "cipher = Salsa20.new(key=preshared_key) # Salsa20 is a stream cipher which will basically take the short preshared key and expand it to a long one-time-pad equivalent for XORing\n",
    "# This 8-byte nonce must be shared with Bob\n",
    "nonce = cipher.nonce\n",
    "encrypted = cipher.encrypt(message) \n",
    "print(encrypted)\n",
    "\n",
    "# Alice adds ECC to her message using a convolutional code\n",
    "alice_message = convolutional_ecc_encode(encrypted)\n",
    "\n",
    "# expanded_key = secrets.token_bytes(len(ecc_encoded))\n",
    "# alice_message = bytes(a ^ b for (a, b) in zip(ecc_encoded, preshared_key))\n",
    "\n",
    "# Alice prepares a keyed hash of her message\n",
    "hash_key = secrets.token_bytes(16) # Or bb84_qkd(128,16) or other protocol\n",
    "hash_function = hmac.new(hash_key, message, digestmod='md5') # Not a secure hash function but used here as it's a short hash\n",
    "alice_hash = hash_function.digest()\n",
    "\n",
    "# print(alice_message)\n",
    "print(\"ECC Coded length: %i\" % len(alice_message))\n",
    "# print(alice_hash)\n",
    "# print(len(alice_hash))\n",
    "\n",
    "# Alice mixes the bits of her message and hash according to some function f(k) based on the preshared key\n",
    "# then transmits message bits in random basis and hash bits in a basis given by g(k) based on the preshared key\n",
    "alice_message_bases = randint(2, size=len(alice_message))\n",
    "alice_hash_bases = calculate_hash_bases(preshared_key, len(alice_hash) * 8)\n",
    "\n",
    "alice_transmission_bases = mix_message_and_hash(preshared_key, alice_message_bases, alice_hash_bases)\n",
    "alice_transmission_bits = mix_message_and_hash(preshared_key, alice_message, byte_array_to_bits(alice_hash))\n",
    "# print(alice_transmission_bases)\n",
    "# print(alice_transmission_bits)\n",
    "\n",
    "encoded_message = encode_message(alice_transmission_bits, alice_transmission_bases)\n",
    "# Send encoded message to Bob!"
   ]
  },
  {
   "cell_type": "raw",
   "id": "loving-bouquet",
   "metadata": {},
   "source": [
    "Decryption:\n",
    "\n",
    "Step 1: Bob receives Qy, and extracts Qx and Qh according\n",
    "to f(k). Then he measures all qubits of Qx in BY basis\n",
    "obtaining x\u0003, and stores Qh.\n",
    "\n",
    "Step 2: Bob computes m\u0003 := x\u0003 \u0006 k, and runs a decoding\n",
    "algorithm to obtain the message m. (Note that m\u0003 = mG\u0006e,\n",
    "where e is an error vector arised from Bob’s measurement).\n",
    "If the error rate is lower than the threshold, he obtains m.\n",
    "Otherwise, he rejects the communication.\n",
    "\n",
    "Step 3: Bob first measures the qubits of Qh in the the correct\n",
    "bases according to g(x) obtaining h\u0003. Then he computes h.\n",
    "If h = h\u0003, Bob concludes the message m is valid, and\n",
    "Alice is legal decisively. Otherwise, Bob does not validate m\n",
    "(if the quantum channel is noisy d(h, h\u0003) \u0007 r\u0006 implies Alice’s\n",
    "legitimacy, where \u0006 is the QBER1 of the channel)"
   ]
  },
  {
   "cell_type": "code",
   "execution_count": 43,
   "id": "renewable-billion",
   "metadata": {},
   "outputs": [
    {
     "name": "stdout",
     "output_type": "stream",
     "text": [
      "b'XfO'\n",
      "b'8fO'\n",
      "b'(ey'\n",
      "b'd\\r\\xf2U\\x81+\\x05\\xb2FEp\\xaa\\xbaa(k'\n",
      "b'Z\\x11\\xf9\\xe5\\x9a\\x87\\x81\\xfd\\xc6?\\xf1\\xf2\\xfe\\x8b\\xe7\\x11'\n",
      "Is message verified? False\n"
     ]
    }
   ],
   "source": [
    "unmixed = unmix_message_and_hash(preshared_key, encoded_message, len(alice_hash)*8)\n",
    "hash_qubits = unmixed[0]\n",
    "message_qubits = unmixed[1]\n",
    "# print(hash_qubits)\n",
    "# print(message_qubits)\n",
    "bob_received_message = bob_measure_message(message_qubits)\n",
    "\n",
    "bob_hash_bases = calculate_hash_bases(preshared_key, len(alice_hash) * 8)\n",
    "bob_received_hash = bits_to_byte_array(measure_message(hash_qubits, bob_hash_bases))\n",
    "\n",
    "boblen = len(bob_received_message)\n",
    "for i in range(boblen-x, boblen):\n",
    "    bob_received_message[i] = 0\n",
    "# print(array(bob_received_message))\n",
    "\n",
    "ecc_decoded = convolutional_ecc_decode(array(bob_received_message))\n",
    "print(ecc_decoded)\n",
    "print(encrypted)\n",
    "\n",
    "cipher = Salsa20.new(preshared_key, nonce=nonce)\n",
    "decrypted = cipher.decrypt(ecc_decoded)\n",
    "print(decrypted)\n",
    "\n",
    "hash_function = hmac.new(hash_key, decrypted, digestmod='md5')\n",
    "bob_hash = hash_function.digest()\n",
    "print(bob_hash)\n",
    "print(bob_received_hash)\n",
    "match = hmac.compare_digest(bob_hash, bob_received_hash)\n",
    "print(\"Is message verified? %s\" % match)\n"
   ]
  },
  {
   "cell_type": "raw",
   "id": "sufficient-hands",
   "metadata": {},
   "source": [
    "Thoughts on common patterns so far:\n",
    "Transmit and measure in some basis appears almost everywhere, unless dealing with purely quantum data\n",
    "It's important to have a basic understanding of the different rotational gates\n",
    "\n"
   ]
  },
  {
   "cell_type": "code",
   "execution_count": null,
   "id": "fiscal-arizona",
   "metadata": {
    "tags": []
   },
   "outputs": [],
   "source": [
    "In the paper the authors use the generator matrix G = \n",
    "[[1,0,1,1,0],\n",
    " [0,1,1,0,1]]\n",
    "This is a (5,2,3) code which can correct 1 error in a 5 length vector, so 20% woo. To calculate the encoding of 2 bits, we take\n",
    "[0,1]*G = [x,x,x,x,x] using multiplication mod 2\n",
    "So far so good, we can encode if we need to\n",
    "Bob uses nearest neighbor decoding to go from his 5-bits back to 2\n",
    "\n",
    "I am thinking that the paper is just incorrect about Bob's ability to decode 85% of qubits correctly as this is not observed in practice"
   ]
  },
  {
   "cell_type": "code",
   "execution_count": 100,
   "id": "deluxe-massage",
   "metadata": {},
   "outputs": [],
   "source": [
    "def analyze_ad2018(count, message):\n",
    "    preshared_key = bb84_qkd(128, 16)\n",
    "    success = 0\n",
    "    for i in range(count):\n",
    "        if (ad_2018(message, preshared_key)):\n",
    "            success += 1\n",
    "            # print('success')\n",
    "            \n",
    "    print('%i/%i success rate' % (success, count))"
   ]
  },
  {
   "cell_type": "code",
   "execution_count": 78,
   "id": "unknown-louisiana",
   "metadata": {},
   "outputs": [
    {
     "name": "stdout",
     "output_type": "stream",
     "text": [
      "247/1000 success rate\n"
     ]
    }
   ],
   "source": [
    "x = 3\n",
    "memory = array([x])\n",
    "g_matrix = array([[7, 5, 3, 1]])\n",
    "ecc_trellis = Trellis(memory, g_matrix, code_type='default')\n",
    "\n",
    "analyze_ad2018(1000, b'hey')"
   ]
  },
  {
   "cell_type": "code",
   "execution_count": 79,
   "id": "round-chemistry",
   "metadata": {},
   "outputs": [
    {
     "name": "stdout",
     "output_type": "stream",
     "text": [
      "334/1000 success rate\n"
     ]
    }
   ],
   "source": [
    "x = 3\n",
    "memory = array([x])\n",
    "g_matrix = array([[5, 7, 1, 3, 5]])\n",
    "ecc_trellis = Trellis(memory, g_matrix, code_type='default')\n",
    "\n",
    "analyze_ad2018(1000, b'hey')"
   ]
  },
  {
   "cell_type": "code",
   "execution_count": 80,
   "id": "limited-organizer",
   "metadata": {},
   "outputs": [
    {
     "name": "stdout",
     "output_type": "stream",
     "text": [
      "234/1000 success rate\n"
     ]
    }
   ],
   "source": [
    "x = 5\n",
    "memory = array([x])\n",
    "g_matrix = array([[7, 5, 3, 1]])\n",
    "ecc_trellis = Trellis(memory, g_matrix, code_type='default')\n",
    "\n",
    "analyze_ad2018(1000, b'hey')"
   ]
  },
  {
   "cell_type": "code",
   "execution_count": 81,
   "id": "coated-simple",
   "metadata": {},
   "outputs": [
    {
     "name": "stdout",
     "output_type": "stream",
     "text": [
      "251/1000 success rate\n"
     ]
    }
   ],
   "source": [
    "x = 3\n",
    "memory = array([x])\n",
    "g_matrix = array([[7, 5, 3, 2]])\n",
    "ecc_trellis = Trellis(memory, g_matrix, code_type='default')\n",
    "\n",
    "analyze_ad2018(1000, b'hey')"
   ]
  },
  {
   "cell_type": "code",
   "execution_count": 82,
   "id": "compatible-bulgarian",
   "metadata": {},
   "outputs": [
    {
     "name": "stdout",
     "output_type": "stream",
     "text": [
      "477/1000 success rate\n"
     ]
    }
   ],
   "source": [
    "x = 3\n",
    "memory = array([x])\n",
    "g_matrix = array([[5, 7, 1, 3, 5, 1]])\n",
    "ecc_trellis = Trellis(memory, g_matrix, code_type='default')\n",
    "\n",
    "analyze_ad2018(1000, b'hey')"
   ]
  },
  {
   "cell_type": "code",
   "execution_count": 84,
   "id": "civil-level",
   "metadata": {},
   "outputs": [
    {
     "name": "stdout",
     "output_type": "stream",
     "text": [
      "815/1000 success rate\n"
     ]
    }
   ],
   "source": [
    "x = 3\n",
    "memory = array([x])\n",
    "g_matrix = array([[5, 7, 1, 3, 5, 1, 3, 7, 6, 2]])\n",
    "ecc_trellis = Trellis(memory, g_matrix, code_type='default')\n",
    "\n",
    "analyze_ad2018(1000, b'hey')"
   ]
  },
  {
   "cell_type": "code",
   "execution_count": 85,
   "id": "mechanical-bridges",
   "metadata": {},
   "outputs": [
    {
     "name": "stdout",
     "output_type": "stream",
     "text": [
      "823/1000 success rate\n"
     ]
    }
   ],
   "source": [
    "x = 5\n",
    "memory = array([x])\n",
    "g_matrix = array([[5, 7, 1, 3, 5, 1, 3, 7, 6, 2]])\n",
    "ecc_trellis = Trellis(memory, g_matrix, code_type='default')\n",
    "\n",
    "analyze_ad2018(1000, b'hey')"
   ]
  },
  {
   "cell_type": "code",
   "execution_count": 86,
   "id": "removable-paint",
   "metadata": {},
   "outputs": [
    {
     "name": "stdout",
     "output_type": "stream",
     "text": [
      "844/1000 success rate\n"
     ]
    }
   ],
   "source": [
    "x = 3\n",
    "memory = array([x])\n",
    "g_matrix = array([[5, 7, 1, 3, 5, 1, 3, 7, 3, 1]])\n",
    "ecc_trellis = Trellis(memory, g_matrix, code_type='default')\n",
    "\n",
    "analyze_ad2018(1000, b'hey')"
   ]
  },
  {
   "cell_type": "code",
   "execution_count": 94,
   "id": "historical-bulgaria",
   "metadata": {},
   "outputs": [
    {
     "name": "stdout",
     "output_type": "stream",
     "text": [
      "582/1000 success rate\n"
     ]
    }
   ],
   "source": [
    "# Hello World\n",
    "x = 3\n",
    "memory = array([x])\n",
    "g_matrix = array([[5, 7, 1, 3, 5, 1, 3, 7, 3, 1, 9, 5]])\n",
    "ecc_trellis = Trellis(memory, g_matrix, code_type='default')\n",
    "\n",
    "analyze_ad2018(1000, b'hello world')"
   ]
  },
  {
   "cell_type": "code",
   "execution_count": 104,
   "id": "medical-buyer",
   "metadata": {},
   "outputs": [
    {
     "name": "stdout",
     "output_type": "stream",
     "text": [
      "900/1000 success rate\n"
     ]
    }
   ],
   "source": [
    "x = 3\n",
    "memory = array([x])\n",
    "g_matrix = array([[1, 3, 5, 7, 9, 11, 1, 3, 5, 7, 9, 11]])\n",
    "ecc_trellis = Trellis(memory, g_matrix, code_type='default')\n",
    "\n",
    "analyze_ad2018(1000, b'hey')"
   ]
  },
  {
   "cell_type": "code",
   "execution_count": 96,
   "id": "medieval-tunisia",
   "metadata": {},
   "outputs": [
    {
     "name": "stdout",
     "output_type": "stream",
     "text": [
      "799/1000 success rate\n"
     ]
    }
   ],
   "source": [
    "# just Hello\n",
    "x = 3\n",
    "memory = array([x])\n",
    "g_matrix = array([[5, 7, 1, 3, 5, 1, 3, 7, 3, 1, 9, 5]])\n",
    "ecc_trellis = Trellis(memory, g_matrix, code_type='default')\n",
    "\n",
    "analyze_ad2018(1000, b'hello')"
   ]
  },
  {
   "cell_type": "code",
   "execution_count": 97,
   "id": "immune-wellington",
   "metadata": {},
   "outputs": [
    {
     "name": "stdout",
     "output_type": "stream",
     "text": [
      "843/1000 success rate\n"
     ]
    }
   ],
   "source": [
    "x = 3\n",
    "memory = array([x])\n",
    "g_matrix = array([[1, 3, 5, 7, 9, 11, 1, 3, 5, 7, 9, 11]])\n",
    "ecc_trellis = Trellis(memory, g_matrix, code_type='default')\n",
    "\n",
    "analyze_ad2018(1000, b'hello')"
   ]
  },
  {
   "cell_type": "code",
   "execution_count": 103,
   "id": "happy-married",
   "metadata": {},
   "outputs": [
    {
     "name": "stdout",
     "output_type": "stream",
     "text": [
      "955/1000 success rate\n",
      "926/1000 success rate\n",
      "902/1000 success rate\n",
      "853/1000 success rate\n",
      "821/1000 success rate\n",
      "800/1000 success rate\n",
      "780/1000 success rate\n",
      "756/1000 success rate\n"
     ]
    }
   ],
   "source": [
    "x = 3\n",
    "memory = array([x])\n",
    "g_matrix = array([[1, 3, 5, 7, 9, 11, 1, 3, 5, 7, 9, 11]])\n",
    "ecc_trellis = Trellis(memory, g_matrix, code_type='default')\n",
    "\n",
    "analyze_ad2018(1000, b'1')\n",
    "analyze_ad2018(1000, b'12')\n",
    "analyze_ad2018(1000, b'123')\n",
    "analyze_ad2018(1000, b'1234')\n",
    "analyze_ad2018(1000, b'12345')\n",
    "analyze_ad2018(1000, b'123456')\n",
    "analyze_ad2018(1000, b'1234567')\n",
    "analyze_ad2018(1000, b'12345678')"
   ]
  },
  {
   "cell_type": "code",
   "execution_count": 106,
   "id": "compressed-coffee",
   "metadata": {},
   "outputs": [
    {
     "name": "stdout",
     "output_type": "stream",
     "text": [
      "262/1000 success rate\n",
      "58/1000 success rate\n",
      "9/1000 success rate\n"
     ]
    }
   ],
   "source": [
    "x = 3\n",
    "memory = array([x])\n",
    "g_matrix = array([[5, 7]])\n",
    "ecc_trellis = Trellis(memory, g_matrix, code_type='default')\n",
    "\n",
    "analyze_ad2018(1000, b'1')\n",
    "analyze_ad2018(1000, b'12')\n",
    "analyze_ad2018(1000, b'123')"
   ]
  },
  {
   "cell_type": "code",
   "execution_count": null,
   "id": "social-screw",
   "metadata": {},
   "outputs": [],
   "source": []
  }
 ],
 "metadata": {
  "kernelspec": {
   "display_name": "Python 3",
   "language": "python",
   "name": "python3"
  },
  "language_info": {
   "codemirror_mode": {
    "name": "ipython",
    "version": 3
   },
   "file_extension": ".py",
   "mimetype": "text/x-python",
   "name": "python",
   "nbconvert_exporter": "python",
   "pygments_lexer": "ipython3",
   "version": "3.9.1"
  }
 },
 "nbformat": 4,
 "nbformat_minor": 5
}
