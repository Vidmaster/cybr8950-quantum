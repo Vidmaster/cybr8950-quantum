{
 "cells": [
  {
   "cell_type": "markdown",
   "id": "cordless-therapy",
   "metadata": {},
   "source": [
    "# AD18 Quantum Symmetric Cryptosystem\n",
    "This notebook contains an implementation of Amerimehr and Dehkordi's symmetric quantum cryptosystem proposed in 2018. This system uses a combination of classical encryption, authenticated hashing, and error correction in combination with secret basis information to provide confidentiality, integrity, non-repudiation, and high security against undetected eavesdropping. The cryptosystem can be briefly described as follows:\n",
    "\n",
    "### Encryption: \n",
    "* Step 1: Alice computes x := mG\u0006k obtaining the messagebits, and prepares a train of qubits according to x called Qx. She uses random bases for preparing the qubits.\n",
    "* Step 2: Alice computes h := hk(m), and prepares a train of qubits according to h called Qh. The base string {B1,B2, . . .,Br}, used by Alice to prepare Qh, is considered according to g(x). The rule is that Bj = BZ if the j-th bit of g(x) is zero, and Bj = BX otherwise.\n",
    "* Step 3: Alice mixes Qx and Qh together according to f(k) obtaining Qy, and then sends Qy to Bob.\n",
    "\n",
    "### Decryption:\n",
    "* Step 1: Bob receives Qy, and extracts Qx and Qh according to f(k). Then he measures all qubits of Qx in BY basis obtaining x\u0003, and stores Qh.\n",
    "* Step 2: Bob computes m\u0003 := x\u0003 \u0006 k, and runs a decoding algorithm to obtain the message m. (Note that m\u0003 = mG\u0006e, where e is an error vector arised from Bob’s measurement). If the error rate is lower than the threshold, he obtains m. Otherwise, he rejects the communication.\n",
    "* Step 3: Bob first measures the qubits of Qh in the the correct bases according to g(x) obtaining h\u0003. Then he computes h. If h = h\u0003, Bob concludes the message m is valid, and Alice is legal decisively. Otherwise, Bob does not validate m (if the quantum channel is noisy d(h, h\u0003) \u0007 r\u0006 implies Alice’s legitimacy, where \u0006 is the QBER1 of the channel)\n",
    "\n",
    "**Source**: A. Amerimehr and M. H. Dehkordi. 2018. Quantum Symmetric Cryptosystem Based on Algebraic Codes. IEEE Communications Letters 22, 9 (September 2018), 1746–1749. DOI:https://doi.org/10.1109/LCOMM.2018.2844245\n",
    "\n",
    "To execute tests of this cryptosystem, run the 2nd and 3rd cells below to import data and define all of the needed functions. Then, create a preshared key by running the command `preshared_key = bb84_qkd(128, 16)`, and define a message by running `message = b'yourMessageHere'`. After that, the system can be executed by running `ad_2018(message, preshared_key)`. For additional debugging information as the process runs, set `debug = True` first. For convenience, this code has been placed in the below cell and can be run after executing the imports and function definitions."
   ]
  },
  {
   "cell_type": "code",
   "execution_count": 14,
   "id": "agreed-madison",
   "metadata": {},
   "outputs": [
    {
     "name": "stdout",
     "output_type": "stream",
     "text": [
      "Did transmission succeed? True\n"
     ]
    }
   ],
   "source": [
    "# IMPORTANT! Run me after running the two cells below!!!\n",
    "preshared_key = bb84_qkd(128, 16)\n",
    "message = b'cybr8950'\n",
    "debug = False\n",
    "success = ad_2018(message, preshared_key)\n",
    "print('Did transmission succeed? %s' % success)"
   ]
  },
  {
   "cell_type": "code",
   "execution_count": 1,
   "id": "polar-jesus",
   "metadata": {},
   "outputs": [
    {
     "name": "stdout",
     "output_type": "stream",
     "text": [
      "Imports Successful\n"
     ]
    }
   ],
   "source": [
    "# Run me first!\n",
    "import numpy as np\n",
    "from numpy import array, inf\n",
    "from numpy.random import randint, randn, seed\n",
    "from math import pi\n",
    "from qiskit import(QuantumCircuit, execute, Aer, IBMQ, assemble, transpile)\n",
    "from qiskit.visualization import plot_histogram, plot_bloch_multivector\n",
    "from qiskit.providers.ibmq.job import job_monitor\n",
    "from commpy.channelcoding.convcode import Trellis, conv_encode, viterbi_decode\n",
    "import hashlib, hmac\n",
    "import secrets\n",
    "from Crypto.Cipher import Salsa20\n",
    "\n",
    "print(\"Imports Successful\")\n",
    "# Uncomment if we need to use the actual quantum backends\n",
    "# provider = IBMQ.load_account()\n",
    "# provider.backends()"
   ]
  },
  {
   "cell_type": "code",
   "execution_count": 2,
   "id": "lined-lloyd",
   "metadata": {},
   "outputs": [
    {
     "name": "stdout",
     "output_type": "stream",
     "text": [
      "Functions and shared data defined successfully\n"
     ]
    }
   ],
   "source": [
    "# Run me second!\n",
    "# Helper functions for BB84 QKD - partially copied from https://qiskit.org/textbook/ch-algorithms/quantum-key-distribution.html\n",
    "def encode_message(bits, bases):\n",
    "    message = []\n",
    "    for i in range(len(bases)):\n",
    "        qc = QuantumCircuit(1,1)\n",
    "        if bases[i] == 0: # Prepare qubit in Z-basis\n",
    "            if bits[i] == 0:\n",
    "                pass \n",
    "            else:\n",
    "                qc.x(0)\n",
    "        else: # Prepare qubit in X-basis\n",
    "            if bits[i] == 0:\n",
    "                qc.h(0)\n",
    "            else:\n",
    "                qc.x(0)\n",
    "                qc.h(0)\n",
    "        qc.barrier()\n",
    "        message.append(qc)\n",
    "    return message\n",
    "\n",
    "def measure_message(message, bases):\n",
    "    backend = Aer.get_backend('qasm_simulator')\n",
    "    measurements = []\n",
    "    for q in range(len(bases)):\n",
    "        if bases[q] == 0: # measuring in Z-basis\n",
    "            message[q].measure(0,0)\n",
    "        if bases[q] == 1: # measuring in X-basis\n",
    "            message[q].h(0)\n",
    "            message[q].measure(0,0)\n",
    "        qasm_sim = Aer.get_backend('qasm_simulator')\n",
    "        qobj = assemble(message[q], shots=1, memory=True)\n",
    "        result = qasm_sim.run(qobj).result()\n",
    "        measured_bit = int(result.get_memory()[0])\n",
    "        measurements.append(measured_bit)\n",
    "    return measurements\n",
    "\n",
    "def remove_garbage(a_bases, b_bases, bits):\n",
    "    good_bits = []\n",
    "    for q in range(len(a_bases)):\n",
    "        if a_bases[q] == b_bases[q]:\n",
    "            # If both used the same basis, add\n",
    "            # this to the list of 'good' bits\n",
    "            good_bits.append(bits[q])\n",
    "    return good_bits\n",
    "\n",
    "def sample_bits(bits, selection):\n",
    "    sample = []\n",
    "    for i in selection:\n",
    "        # use np.mod to make sure the\n",
    "        # bit we sample is always in \n",
    "        # the list range\n",
    "        i = np.mod(i, len(bits))\n",
    "        # pop(i) removes the element of the\n",
    "        # list at index 'i'\n",
    "        sample.append(bits.pop(i))\n",
    "    return sample\n",
    "\n",
    "# Original helper functions\n",
    "def bits_to_byte_array(bits):\n",
    "    if ((len(bits) % 8) != 0):\n",
    "        raise RuntimeError('Bits length must be a multiple of 8')\n",
    "    byte_str = \"\".join(str(bit) for bit in bits)\n",
    "    return int(byte_str, 2).to_bytes(len(byte_str) // 8, byteorder='big')\n",
    "\n",
    "def byte_array_to_bits(byte_arr):\n",
    "    bits = []\n",
    "    for i in byte_arr:\n",
    "        binary = bin(i)[2:].zfill(8)\n",
    "        for b in binary:\n",
    "            bits.append(int(b))\n",
    "    \n",
    "    return bits\n",
    "\n",
    "# Simplified BB84 key exchange - call one method and it produces a byte key of the desired length\n",
    "# Example: exchanged_key = bb84_qkd(128, 16)\n",
    "def bb84_qkd(desired_key_length, eavesdropper_detection_sample_size):\n",
    "    if ((desired_key_length % 8) != 0):\n",
    "        raise RuntimeError('Key length must be a multiple of 8')\n",
    "        \n",
    "    n = (desired_key_length * 2) + (eavesdropper_detection_sample_size * 6) \n",
    "    bob_key = []\n",
    "    \n",
    "    while (len(bob_key) < desired_key_length):\n",
    "        alice_bits = randint(2, size=n)\n",
    "        alice_bases = randint(2, size=n)\n",
    "\n",
    "        # Pretend the message is transmitted here\n",
    "        message = encode_message(alice_bits, alice_bases)\n",
    "\n",
    "        bob_bases = randint(2, size=n)\n",
    "        bob_results = measure_message(message, bob_bases)\n",
    "\n",
    "        # Pretend Alice and Bob's bases were shared here\n",
    "        alice_key = remove_garbage(alice_bases, bob_bases, alice_bits)\n",
    "        bob_key = remove_garbage(alice_bases, bob_bases, bob_results)\n",
    "\n",
    "        # Pretend the selection of random sample bits was shared here\n",
    "        bit_selection = randint(n, size=eavesdropper_detection_sample_size)\n",
    "        \n",
    "        bob_sample = sample_bits(bob_key, bit_selection)\n",
    "        alice_sample = sample_bits(alice_key, bit_selection)\n",
    "\n",
    "        if (bob_sample != alice_sample):\n",
    "            print(\"Eavesdropper detected! Reattempt key distribution on a different quantum channel.\")\n",
    "            raise RuntimeError\n",
    "    return bits_to_byte_array(bob_key[0:desired_key_length])\n",
    "\n",
    "\n",
    "# New methods created for AD18 implementation begin here\n",
    "def calculate_hash_bases(key, length):\n",
    "    # Secure option: Produce <length> bits of data using the key and a fixed value with some cipher.\n",
    "    # Simple option: Just use the key directly and loop through it until length is reached using key bits as 0 = +, 1 = X.\n",
    "    hash_bases = []\n",
    "    bit_key = byte_array_to_bits(key)\n",
    "    for i in range(length):\n",
    "        hash_bases.append(int(bit_key[i % len(bit_key)]))\n",
    "    return hash_bases\n",
    "\n",
    "def mix_message_and_hash(key, message, hashed):\n",
    "    # Simplest option: Just concatenate the two, hash + message or alternate or something\n",
    "    # Paper option: Uses only one hash bit and calculates sum(ki * 2^i mod n) for 0..n to determine its position\n",
    "    # Secure option: Produce values using a secure cipher and the key, then mix the message and hash accordingly\n",
    "    mixed = []\n",
    "    for x in hashed:\n",
    "        mixed.append(x)\n",
    "    for x in message:\n",
    "        mixed.append(x)\n",
    "    return mixed\n",
    "\n",
    "def unmix_message_and_hash(key, mixed, hash_length):\n",
    "    return (mixed[0:hash_length], mixed[hash_length:])\n",
    "\n",
    "# Bob uses a special measurement function to measure in the omega basis\n",
    "def bob_measure_message(message):\n",
    "    backend = Aer.get_backend('qasm_simulator')\n",
    "    measurements = []\n",
    "    for q in range(len(message)):\n",
    "        message[q].rz(-pi/8,0)\n",
    "        message[q].measure(0,0)\n",
    "        qasm_sim = Aer.get_backend('qasm_simulator')\n",
    "        qobj = assemble(message[q], shots=1, memory=True)\n",
    "        result = qasm_sim.run(qobj).result()\n",
    "        measured_bit = int(result.get_memory()[0])\n",
    "        measurements.append(measured_bit)\n",
    "    return measurements\n",
    "\n",
    "# Properties for convolutional ECC - Reference https://commpy.readthedocs.io/en/latest/channelcoding.html\n",
    "x = 3\n",
    "memory = array([x])\n",
    "g_matrix = array([[1, 3, 5, 7, 9, 11, 1, 3, 5, 7, 9, 11]])\n",
    "ecc_trellis = Trellis(memory, g_matrix, code_type='default')\n",
    "debug = False\n",
    "\n",
    "def convolutional_ecc_encode(message):\n",
    "    msg_bits = byte_array_to_bits(message)\n",
    "    coded_bits = conv_encode(msg_bits, ecc_trellis)\n",
    "    return coded_bits\n",
    "                        \n",
    "def convolutional_ecc_decode(coded_bits):                    \n",
    "    decoded_bits = viterbi_decode(coded_bits.astype(float), ecc_trellis)\n",
    "    decoded_msg = bits_to_byte_array(decoded_bits[:-x])\n",
    "    return decoded_msg\n",
    "    \n",
    "    \n",
    "def ad_2018(message, preshared_key):\n",
    "    # Preparation\n",
    "    # Salsa20 is a stream cipher which will basically take the short preshared key and expand it to a long one-time-pad equivalent for XORing\n",
    "    cipher = Salsa20.new(key=preshared_key) \n",
    "    \n",
    "    # This 8-byte nonce must be shared with Bob\n",
    "    nonce = cipher.nonce\n",
    "    encrypted = cipher.encrypt(message) \n",
    "\n",
    "    # Alice adds ECC to her message using a convolutional code\n",
    "    alice_message = convolutional_ecc_encode(encrypted)\n",
    "\n",
    "    # Alice prepares a keyed hash of her message\n",
    "    hash_key = secrets.token_bytes(16) # Or bb84_qkd(128,16) or other protocol\n",
    "    hash_function = hmac.new(hash_key, message, digestmod='md5') # Not a secure hash function but used here as it's a short hash\n",
    "    alice_hash = hash_function.digest()\n",
    "\n",
    "    if debug: \n",
    "        print(\"Alice message: %s\" % alice_message)\n",
    "        print(\"ECC Coded length: %i\" % len(alice_message))\n",
    "        print(\"Alice hash: %s\" % alice_hash)\n",
    "\n",
    "    # Sender preparation\n",
    "    # Alice mixes the bits of her message and hash according to some function f(k) based on the preshared key\n",
    "    # then transmits message bits in random basis and hash bits in a basis given by g(k) based on the preshared key\n",
    "    alice_message_bases = randint(2, size=len(alice_message))\n",
    "    alice_hash_bases = calculate_hash_bases(preshared_key, len(alice_hash) * 8)\n",
    "\n",
    "    alice_transmission_bases = mix_message_and_hash(preshared_key, alice_message_bases, alice_hash_bases)\n",
    "    alice_transmission_bits = mix_message_and_hash(preshared_key, alice_message, byte_array_to_bits(alice_hash))\n",
    "    \n",
    "    if debug:\n",
    "        print(\"Alice transmission bases: %s\" % alice_transmission_bases)\n",
    "        print(\"Alice transmission bits: %s\" % alice_transmission_bits)\n",
    "\n",
    "    encoded_message = encode_message(alice_transmission_bits, alice_transmission_bases)\n",
    "    \n",
    "    # Transmission does not require any special code in this protocol\n",
    "    \n",
    "    # Recipient processing\n",
    "    unmixed = unmix_message_and_hash(preshared_key, encoded_message, len(alice_hash)*8)\n",
    "    hash_qubits = unmixed[0]\n",
    "    message_qubits = unmixed[1]\n",
    "    bob_received_message = bob_measure_message(message_qubits)\n",
    "\n",
    "    bob_hash_bases = calculate_hash_bases(preshared_key, len(alice_hash) * 8)\n",
    "    bob_received_hash = bits_to_byte_array(measure_message(hash_qubits, bob_hash_bases))\n",
    "\n",
    "    boblen = len(bob_received_message)\n",
    "    for i in range(boblen-x, boblen):\n",
    "        bob_received_message[i] = 0\n",
    "    if debug: print(array(bob_received_message))\n",
    "\n",
    "    ecc_decoded = convolutional_ecc_decode(array(bob_received_message))\n",
    "    cipher = Salsa20.new(preshared_key, nonce=nonce)\n",
    "    decrypted = cipher.decrypt(ecc_decoded)\n",
    "    \n",
    "    if debug: \n",
    "        print(\"ECC Decoded value: %s\" % ecc_decoded)\n",
    "        print(\"Decrypted value: %s\" % decrypted)\n",
    "\n",
    "    hash_function = hmac.new(hash_key, decrypted, digestmod='md5')\n",
    "    bob_hash = hash_function.digest()\n",
    "\n",
    "    match = hmac.compare_digest(bob_hash, bob_received_hash)\n",
    "    if debug:\n",
    "        print(\"Bob calcuated hash: %s\" % bob_hash)\n",
    "        print(\"Bob received hash: %s\" % bob_received_hash)\n",
    "        print(\"Is message verified? %s\" % match)\n",
    "        \n",
    "    return match\n",
    "\n",
    "print('Functions and shared data defined successfully')"
   ]
  },
  {
   "cell_type": "markdown",
   "id": "bound-vienna",
   "metadata": {},
   "source": [
    "# Analysis of AD18\n",
    "We define a simple function that executes our ad18 implementation some number of times and reports the total number of successes vs failures. By modifying parameters between runs we can evaluate the overall efficiency of the function for different messages and ECC configurations. "
   ]
  },
  {
   "cell_type": "code",
   "execution_count": 100,
   "id": "chronic-evidence",
   "metadata": {},
   "outputs": [],
   "source": [
    "def analyze_ad2018(count, message):\n",
    "    preshared_key = bb84_qkd(128, 16)\n",
    "    success = 0\n",
    "    for i in range(count):\n",
    "        if (ad_2018(message, preshared_key)):\n",
    "            success += 1\n",
    "            # print('success')\n",
    "            \n",
    "    print('%i/%i success rate' % (success, count))"
   ]
  },
  {
   "cell_type": "code",
   "execution_count": 78,
   "id": "formed-disco",
   "metadata": {},
   "outputs": [
    {
     "name": "stdout",
     "output_type": "stream",
     "text": [
      "247/1000 success rate\n"
     ]
    }
   ],
   "source": [
    "# A smaller ECC trellis with 4 elements in the matrix produces a 25% chance of success on a 3 character message\n",
    "# 247/1000 success rate\n",
    "x = 3\n",
    "memory = array([x])\n",
    "g_matrix = array([[7, 5, 3, 1]])\n",
    "ecc_trellis = Trellis(memory, g_matrix, code_type='default')\n",
    "\n",
    "analyze_ad2018(1000, b'hey')"
   ]
  },
  {
   "cell_type": "code",
   "execution_count": 79,
   "id": "considered-clinic",
   "metadata": {},
   "outputs": [
    {
     "name": "stdout",
     "output_type": "stream",
     "text": [
      "334/1000 success rate\n"
     ]
    }
   ],
   "source": [
    "# Increasing the matrix to 5 elements increases success by 8% on this message\n",
    "# 334/1000 success rate\n",
    "x = 3\n",
    "memory = array([x])\n",
    "g_matrix = array([[5, 7, 1, 3, 5]])\n",
    "ecc_trellis = Trellis(memory, g_matrix, code_type='default')\n",
    "\n",
    "analyze_ad2018(1000, b'hey')"
   ]
  },
  {
   "cell_type": "code",
   "execution_count": 80,
   "id": "charitable-shelf",
   "metadata": {},
   "outputs": [
    {
     "name": "stdout",
     "output_type": "stream",
     "text": [
      "234/1000 success rate\n"
     ]
    }
   ],
   "source": [
    "# Keeping the same matrix but increasing the memory has no significant impact\n",
    "# 234/1000 success rate\n",
    "x = 5\n",
    "memory = array([x])\n",
    "g_matrix = array([[7, 5, 3, 1]])\n",
    "ecc_trellis = Trellis(memory, g_matrix, code_type='default')\n",
    "\n",
    "analyze_ad2018(1000, b'hey')"
   ]
  },
  {
   "cell_type": "code",
   "execution_count": 81,
   "id": "refined-rider",
   "metadata": {},
   "outputs": [
    {
     "name": "stdout",
     "output_type": "stream",
     "text": [
      "251/1000 success rate\n"
     ]
    }
   ],
   "source": [
    "# Changing elements of the matrix also produces no significant impact\n",
    "x = 3\n",
    "memory = array([x])\n",
    "g_matrix = array([[7, 5, 3, 2]])\n",
    "ecc_trellis = Trellis(memory, g_matrix, code_type='default')\n",
    "\n",
    "analyze_ad2018(1000, b'hey')"
   ]
  },
  {
   "cell_type": "code",
   "execution_count": 82,
   "id": "ancient-andrew",
   "metadata": {},
   "outputs": [
    {
     "name": "stdout",
     "output_type": "stream",
     "text": [
      "477/1000 success rate\n"
     ]
    }
   ],
   "source": [
    "# Continuing to expand the matrix increases the success rate\n",
    "# 477/1000 success rate\n",
    "x = 3\n",
    "memory = array([x])\n",
    "g_matrix = array([[5, 7, 1, 3, 5, 1]])\n",
    "ecc_trellis = Trellis(memory, g_matrix, code_type='default')\n",
    "\n",
    "analyze_ad2018(1000, b'hey')"
   ]
  },
  {
   "cell_type": "code",
   "execution_count": 84,
   "id": "raised-steal",
   "metadata": {},
   "outputs": [
    {
     "name": "stdout",
     "output_type": "stream",
     "text": [
      "815/1000 success rate\n"
     ]
    }
   ],
   "source": [
    "x = 3\n",
    "memory = array([x])\n",
    "g_matrix = array([[5, 7, 1, 3, 5, 1, 3, 7, 6, 2]])\n",
    "ecc_trellis = Trellis(memory, g_matrix, code_type='default')\n",
    "\n",
    "analyze_ad2018(1000, b'hey')"
   ]
  },
  {
   "cell_type": "code",
   "execution_count": 85,
   "id": "agreed-baker",
   "metadata": {},
   "outputs": [
    {
     "name": "stdout",
     "output_type": "stream",
     "text": [
      "823/1000 success rate\n"
     ]
    }
   ],
   "source": [
    "# With larger matrices we see a reasonable 80%+ success rate\n",
    "# 823/1000 success rate\n",
    "x = 5\n",
    "memory = array([x])\n",
    "g_matrix = array([[5, 7, 1, 3, 5, 1, 3, 7, 6, 2]])\n",
    "ecc_trellis = Trellis(memory, g_matrix, code_type='default')\n",
    "\n",
    "analyze_ad2018(1000, b'hey')"
   ]
  },
  {
   "cell_type": "code",
   "execution_count": 86,
   "id": "running-alarm",
   "metadata": {},
   "outputs": [
    {
     "name": "stdout",
     "output_type": "stream",
     "text": [
      "844/1000 success rate\n"
     ]
    }
   ],
   "source": [
    "# Changing the elements may have some impact\n",
    "# 844/1000 success rate\n",
    "x = 3\n",
    "memory = array([x])\n",
    "g_matrix = array([[5, 7, 1, 3, 5, 1, 3, 7, 3, 1]])\n",
    "ecc_trellis = Trellis(memory, g_matrix, code_type='default')\n",
    "\n",
    "analyze_ad2018(1000, b'hey')"
   ]
  },
  {
   "cell_type": "code",
   "execution_count": 94,
   "id": "assisted-convenience",
   "metadata": {},
   "outputs": [
    {
     "name": "stdout",
     "output_type": "stream",
     "text": [
      "582/1000 success rate\n"
     ]
    }
   ],
   "source": [
    "# Testing with the much longer Hello World reduces success but still has a >50% success rate\n",
    "# 582/1000 success rate\n",
    "x = 3\n",
    "memory = array([x])\n",
    "g_matrix = array([[5, 7, 1, 3, 5, 1, 3, 7, 3, 1, 9, 5]])\n",
    "ecc_trellis = Trellis(memory, g_matrix, code_type='default')\n",
    "\n",
    "analyze_ad2018(1000, b'hello world')"
   ]
  },
  {
   "cell_type": "code",
   "execution_count": 104,
   "id": "circular-sodium",
   "metadata": {},
   "outputs": [
    {
     "name": "stdout",
     "output_type": "stream",
     "text": [
      "900/1000 success rate\n"
     ]
    }
   ],
   "source": [
    "# With this G-Matrix we see a 90% success rate for 3 characters\n",
    "# 900/1000 success rate\n",
    "x = 3\n",
    "memory = array([x])\n",
    "g_matrix = array([[1, 3, 5, 7, 9, 11, 1, 3, 5, 7, 9, 11]])\n",
    "ecc_trellis = Trellis(memory, g_matrix, code_type='default')\n",
    "\n",
    "analyze_ad2018(1000, b'hey')"
   ]
  },
  {
   "cell_type": "code",
   "execution_count": 97,
   "id": "stone-insight",
   "metadata": {},
   "outputs": [
    {
     "name": "stdout",
     "output_type": "stream",
     "text": [
      "843/1000 success rate\n"
     ]
    }
   ],
   "source": [
    "# And an 84% success rate for 5 characters\n",
    "x = 3\n",
    "memory = array([x])\n",
    "g_matrix = array([[1, 3, 5, 7, 9, 11, 1, 3, 5, 7, 9, 11]])\n",
    "ecc_trellis = Trellis(memory, g_matrix, code_type='default')\n",
    "\n",
    "analyze_ad2018(1000, b'hello')"
   ]
  },
  {
   "cell_type": "code",
   "execution_count": 103,
   "id": "complimentary-devil",
   "metadata": {},
   "outputs": [
    {
     "name": "stdout",
     "output_type": "stream",
     "text": [
      "955/1000 success rate\n",
      "926/1000 success rate\n",
      "902/1000 success rate\n",
      "853/1000 success rate\n",
      "821/1000 success rate\n",
      "800/1000 success rate\n",
      "780/1000 success rate\n",
      "756/1000 success rate\n"
     ]
    }
   ],
   "source": [
    "# Takes time to run, but by doing so we can see a roughly 2.5% decrease in efficiency per character transmitted\n",
    "x = 3\n",
    "memory = array([x])\n",
    "g_matrix = array([[1, 3, 5, 7, 9, 11, 1, 3, 5, 7, 9, 11]])\n",
    "ecc_trellis = Trellis(memory, g_matrix, code_type='default')\n",
    "\n",
    "analyze_ad2018(1000, b'1')\n",
    "analyze_ad2018(1000, b'12')\n",
    "analyze_ad2018(1000, b'123')\n",
    "analyze_ad2018(1000, b'1234')\n",
    "analyze_ad2018(1000, b'12345')\n",
    "analyze_ad2018(1000, b'123456')\n",
    "analyze_ad2018(1000, b'1234567')\n",
    "analyze_ad2018(1000, b'12345678')"
   ]
  },
  {
   "cell_type": "code",
   "execution_count": 106,
   "id": "scenic-nation",
   "metadata": {},
   "outputs": [
    {
     "name": "stdout",
     "output_type": "stream",
     "text": [
      "262/1000 success rate\n",
      "58/1000 success rate\n",
      "9/1000 success rate\n"
     ]
    }
   ],
   "source": [
    "# In contrast to the above, we can see a dramatic decrease in successful transmission with the shorter convolutional code trellis\n",
    "x = 3\n",
    "memory = array([x])\n",
    "g_matrix = array([[5, 7]])\n",
    "ecc_trellis = Trellis(memory, g_matrix, code_type='default')\n",
    "\n",
    "analyze_ad2018(1000, b'1')\n",
    "analyze_ad2018(1000, b'12')\n",
    "analyze_ad2018(1000, b'123')"
   ]
  },
  {
   "cell_type": "code",
   "execution_count": null,
   "id": "necessary-riverside",
   "metadata": {},
   "outputs": [],
   "source": []
  }
 ],
 "metadata": {
  "kernelspec": {
   "display_name": "Python 3",
   "language": "python",
   "name": "python3"
  },
  "language_info": {
   "codemirror_mode": {
    "name": "ipython",
    "version": 3
   },
   "file_extension": ".py",
   "mimetype": "text/x-python",
   "name": "python",
   "nbconvert_exporter": "python",
   "pygments_lexer": "ipython3",
   "version": "3.9.1"
  }
 },
 "nbformat": 4,
 "nbformat_minor": 5
}
