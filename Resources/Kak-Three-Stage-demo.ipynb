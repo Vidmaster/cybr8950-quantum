{
 "cells": [
  {
   "cell_type": "markdown",
   "id": "crucial-florida",
   "metadata": {},
   "source": [
    "# Kak's Three-Stage Protocol Demo\n",
    "This notebook contains a demonstration of Kak's Three-Stage Protocol for quantum encryption. The implementation is broken down into the steps defined in our final paper, and indicates that the proposed methodology can be successfully followed for algorithm implementation.\n",
    "\n",
    "The cells in this notebook can be run in sequence to show the implementation from end to end."
   ]
  },
  {
   "cell_type": "code",
   "execution_count": 33,
   "id": "express-forth",
   "metadata": {},
   "outputs": [
    {
     "name": "stdout",
     "output_type": "stream",
     "text": [
      "Imports Successful\n"
     ]
    }
   ],
   "source": [
    "# Step 0 - imports\n",
    "import numpy as np\n",
    "from numpy import array, inf\n",
    "from numpy.random import randint, randn, seed\n",
    "from math import pi\n",
    "from qiskit import(QuantumCircuit, execute, Aer, IBMQ, assemble, transpile)\n",
    "from qiskit.visualization import plot_histogram, plot_bloch_multivector\n",
    "from qiskit.providers.ibmq.job import job_monitor\n",
    "from commpy.channelcoding.convcode import Trellis, conv_encode, viterbi_decode\n",
    "import hashlib, hmac\n",
    "import secrets\n",
    "from Crypto.Cipher import Salsa20\n",
    "\n",
    "print(\"Imports Successful\")"
   ]
  },
  {
   "cell_type": "markdown",
   "id": "sealed-margin",
   "metadata": {},
   "source": [
    "### Step 1: Stub definition\n",
    "Here, we establish the basic structure of the algorithm and create a primary method which can be executed to encrypt a single bit message"
   ]
  },
  {
   "cell_type": "code",
   "execution_count": 34,
   "id": "light-chart",
   "metadata": {},
   "outputs": [],
   "source": [
    "def kak_3_stage(message):\n",
    "    prepared = alice_prepare_message(message)\n",
    "    transmission_1 = alice_apply_rotation(prepared)\n",
    "    transmission_2 = bob_apply_rotation(transmission_1)\n",
    "    transmission_3 = alice_remove_rotation(transmission_2)\n",
    "    decrypted_message = bob_remove_rotation(transmission_3)\n",
    "    return decrypted_message"
   ]
  },
  {
   "cell_type": "markdown",
   "id": "opening-campbell",
   "metadata": {},
   "source": [
    "### Step 2: External value initialization\n",
    "Here, we set configuration values and establish secret keys for Alice and Bob"
   ]
  },
  {
   "cell_type": "code",
   "execution_count": 38,
   "id": "governmental-vision",
   "metadata": {},
   "outputs": [
    {
     "name": "stdout",
     "output_type": "stream",
     "text": [
      "Alice's key: 5.083624432299371\n",
      "Bob's key: 1.035277866422189\n"
     ]
    }
   ],
   "source": [
    "debug = True      # Change to False to remove messages\n",
    "backend = 'qasm_simulator'\n",
    "alice_key = np.random.uniform(0, 2*pi)\n",
    "bob_key = np.random.uniform(0, 2*pi)\n",
    "if debug:\n",
    "    print(\"Alice's key: %s\" % alice_key)\n",
    "    print(\"Bob's key: %s\" % bob_key)"
   ]
  },
  {
   "cell_type": "markdown",
   "id": "choice-director",
   "metadata": {},
   "source": [
    "### Step 3: Simplest possible implementations\n",
    "In this step, we define simple operations at each stage of the protocol to initialize the quantum circuit and measure the result, but we do not provide actual implementations. To verify that something occurs in each step, we simply add an identity gate and print a debug message showing the full circuit."
   ]
  },
  {
   "cell_type": "code",
   "execution_count": 36,
   "id": "shared-piano",
   "metadata": {},
   "outputs": [
    {
     "name": "stdout",
     "output_type": "stream",
     "text": [
      "Preparing message: 0\n",
      "Alice prepared circuit\n",
      "     \n",
      "q_0: \n",
      "     \n",
      "c: 1/\n",
      "     \n",
      "After Alice applies rotation\n",
      "     ┌───┐\n",
      "q_0: ┤ I ├\n",
      "     └───┘\n",
      "c: 1/═════\n",
      "          \n",
      "After Bob applies rotation\n",
      "     ┌───┐┌───┐\n",
      "q_0: ┤ I ├┤ I ├\n",
      "     └───┘└───┘\n",
      "c: 1/══════════\n",
      "               \n",
      "After Alice removes rotation\n",
      "     ┌───┐┌───┐┌───┐\n",
      "q_0: ┤ I ├┤ I ├┤ I ├\n",
      "     └───┘└───┘└───┘\n",
      "c: 1/═══════════════\n",
      "                    \n",
      "After Bob removes rotation and measures\n",
      "     ┌───┐┌───┐┌───┐┌───┐┌─┐\n",
      "q_0: ┤ I ├┤ I ├┤ I ├┤ I ├┤M├\n",
      "     └───┘└───┘└───┘└───┘└╥┘\n",
      "c: 1/═════════════════════╩═\n",
      "                          0 \n",
      "0\n",
      "Preparing message: 1\n",
      "Alice prepared circuit\n",
      "     \n",
      "q_0: \n",
      "     \n",
      "c: 1/\n",
      "     \n",
      "After Alice applies rotation\n",
      "     ┌───┐\n",
      "q_0: ┤ I ├\n",
      "     └───┘\n",
      "c: 1/═════\n",
      "          \n",
      "After Bob applies rotation\n",
      "     ┌───┐┌───┐\n",
      "q_0: ┤ I ├┤ I ├\n",
      "     └───┘└───┘\n",
      "c: 1/══════════\n",
      "               \n",
      "After Alice removes rotation\n",
      "     ┌───┐┌───┐┌───┐\n",
      "q_0: ┤ I ├┤ I ├┤ I ├\n",
      "     └───┘└───┘└───┘\n",
      "c: 1/═══════════════\n",
      "                    \n",
      "After Bob removes rotation and measures\n",
      "     ┌───┐┌───┐┌───┐┌───┐┌─┐\n",
      "q_0: ┤ I ├┤ I ├┤ I ├┤ I ├┤M├\n",
      "     └───┘└───┘└───┘└───┘└╥┘\n",
      "c: 1/═════════════════════╩═\n",
      "                          0 \n",
      "0\n"
     ]
    }
   ],
   "source": [
    "def alice_prepare_message(message):\n",
    "    if debug: print('Preparing message: %s' % message)\n",
    "    qc = QuantumCircuit(1,1)\n",
    "    if debug: \n",
    "        print('Alice prepared circuit')\n",
    "        print(qc)\n",
    "    return qc\n",
    "\n",
    "def alice_apply_rotation(qc):\n",
    "    qc.i(0)\n",
    "    if debug: \n",
    "        print('After Alice applies rotation')\n",
    "        print(qc)\n",
    "    return qc\n",
    "    \n",
    "def bob_apply_rotation(qc):\n",
    "    qc.i(0)\n",
    "    if debug: \n",
    "        print('After Bob applies rotation')\n",
    "        print(qc)\n",
    "    return qc\n",
    "    \n",
    "def alice_remove_rotation(qc):\n",
    "    qc.i(0)\n",
    "    if debug: \n",
    "        print('After Alice removes rotation')\n",
    "        print(qc)\n",
    "    return qc\n",
    "\n",
    "def bob_remove_rotation(qc):\n",
    "    qc.i(0)\n",
    "    qc.measure(0,0)\n",
    "    if debug: \n",
    "        print('After Bob removes rotation and measures')\n",
    "        print(qc)\n",
    "    # Execute in simulator\n",
    "    qasm_sim = Aer.get_backend(backend)\n",
    "    qobj = assemble(qc, shots=1, memory=True)\n",
    "    result = qasm_sim.run(qobj).result()\n",
    "    measured_bit = int(result.get_memory()[0])\n",
    "    \n",
    "    return measured_bit\n",
    "\n",
    "print(kak_3_stage(0))\n",
    "print(kak_3_stage(1))"
   ]
  },
  {
   "cell_type": "markdown",
   "id": "instrumental-investigator",
   "metadata": {},
   "source": [
    "### Step 4: Implement classical processing\n",
    "This step is a NOOP as no classical component is present in this circuit.\n",
    "\n",
    "### Step 5: Implement real quantum portion of algorithm\n",
    "Finally, we replace the identity gates from step 3 with the rotation operators that are used in the real circuit."
   ]
  },
  {
   "cell_type": "code",
   "execution_count": 37,
   "id": "infrared-genome",
   "metadata": {},
   "outputs": [
    {
     "name": "stdout",
     "output_type": "stream",
     "text": [
      "Preparing message: 0\n",
      "Alice prepared circuit\n",
      "     \n",
      "q_0: \n",
      "     \n",
      "c: 1/\n",
      "     \n",
      "After Alice applies rotation\n",
      "     ┌────────────┐\n",
      "q_0: ┤ RZ(2.6512) ├\n",
      "     └────────────┘\n",
      "c: 1/══════════════\n",
      "                   \n",
      "After Bob applies rotation\n",
      "     ┌────────────┐┌───────────┐\n",
      "q_0: ┤ RZ(2.6512) ├┤ RZ(2.856) ├\n",
      "     └────────────┘└───────────┘\n",
      "c: 1/═══════════════════════════\n",
      "                                \n",
      "After Alice removes rotation\n",
      "     ┌────────────┐┌───────────┐┌─────────────┐\n",
      "q_0: ┤ RZ(2.6512) ├┤ RZ(2.856) ├┤ RZ(-2.6512) ├\n",
      "     └────────────┘└───────────┘└─────────────┘\n",
      "c: 1/══════════════════════════════════════════\n",
      "                                               \n",
      "After Bob removes rotation and measures\n",
      "     ┌────────────┐┌───────────┐┌─────────────┐┌────────────┐┌─┐\n",
      "q_0: ┤ RZ(2.6512) ├┤ RZ(2.856) ├┤ RZ(-2.6512) ├┤ RZ(-2.856) ├┤M├\n",
      "     └────────────┘└───────────┘└─────────────┘└────────────┘└╥┘\n",
      "c: 1/═════════════════════════════════════════════════════════╩═\n",
      "                                                              0 \n",
      "0\n",
      "Preparing message: 1\n",
      "Alice prepared circuit\n",
      "     ┌───┐\n",
      "q_0: ┤ X ├\n",
      "     └───┘\n",
      "c: 1/═════\n",
      "          \n",
      "After Alice applies rotation\n",
      "     ┌───┐┌────────────┐\n",
      "q_0: ┤ X ├┤ RZ(2.6512) ├\n",
      "     └───┘└────────────┘\n",
      "c: 1/═══════════════════\n",
      "                        \n",
      "After Bob applies rotation\n",
      "     ┌───┐┌────────────┐┌───────────┐\n",
      "q_0: ┤ X ├┤ RZ(2.6512) ├┤ RZ(2.856) ├\n",
      "     └───┘└────────────┘└───────────┘\n",
      "c: 1/════════════════════════════════\n",
      "                                     \n",
      "After Alice removes rotation\n",
      "     ┌───┐┌────────────┐┌───────────┐┌─────────────┐\n",
      "q_0: ┤ X ├┤ RZ(2.6512) ├┤ RZ(2.856) ├┤ RZ(-2.6512) ├\n",
      "     └───┘└────────────┘└───────────┘└─────────────┘\n",
      "c: 1/═══════════════════════════════════════════════\n",
      "                                                    \n",
      "After Bob removes rotation and measures\n",
      "     ┌───┐┌────────────┐┌───────────┐┌─────────────┐┌────────────┐┌─┐\n",
      "q_0: ┤ X ├┤ RZ(2.6512) ├┤ RZ(2.856) ├┤ RZ(-2.6512) ├┤ RZ(-2.856) ├┤M├\n",
      "     └───┘└────────────┘└───────────┘└─────────────┘└────────────┘└╥┘\n",
      "c: 1/══════════════════════════════════════════════════════════════╩═\n",
      "                                                                   0 \n",
      "1\n"
     ]
    }
   ],
   "source": [
    "def alice_prepare_message(message):\n",
    "    if debug: print('Preparing message: %s' % message)\n",
    "    qc = QuantumCircuit(1,1)\n",
    "    if message == 1: # Added in step 4\n",
    "        qc.x(0)\n",
    "    if debug: \n",
    "        print('Alice prepared circuit')\n",
    "        print(qc)\n",
    "    return qc\n",
    "\n",
    "def alice_apply_rotation(qc):\n",
    "    qc.rz(alice_key, 0)\n",
    "    if debug: \n",
    "        print('After Alice applies rotation')\n",
    "        print(qc)\n",
    "    return qc\n",
    "    \n",
    "def bob_apply_rotation(qc):\n",
    "    qc.rz(bob_key, 0)\n",
    "    if debug: \n",
    "        print('After Bob applies rotation')\n",
    "        print(qc)\n",
    "    return qc\n",
    "    \n",
    "def alice_remove_rotation(qc):\n",
    "    qc.rz(-alice_key, 0)\n",
    "    if debug: \n",
    "        print('After Alice removes rotation')\n",
    "        print(qc)\n",
    "    return qc\n",
    "\n",
    "def bob_remove_rotation(qc):\n",
    "    qc.rz(-bob_key, 0)\n",
    "    qc.measure(0,0)\n",
    "    if debug: \n",
    "        print('After Bob removes rotation and measures')\n",
    "        print(qc)\n",
    "    # Execute in simulator\n",
    "    qasm_sim = Aer.get_backend(backend)\n",
    "    qobj = assemble(qc, shots=1, memory=True)\n",
    "    result = qasm_sim.run(qobj).result()\n",
    "    measured_bit = int(result.get_memory()[0])\n",
    "    \n",
    "    return measured_bit"
   ]
  },
  {
   "cell_type": "markdown",
   "id": "amended-money",
   "metadata": {},
   "source": [
    "### Testing and verification\n",
    "To confirm that the algorithm functions correctly we test it with both possible inputs and verify that the expected result is produced. For a more complicated algorithm, this could use a standard software testing practice of edge cases plus a normal value or two."
   ]
  },
  {
   "cell_type": "code",
   "execution_count": 44,
   "id": "previous-trouble",
   "metadata": {},
   "outputs": [
    {
     "name": "stdout",
     "output_type": "stream",
     "text": [
      "Testing and verification of algorithm:\n",
      "Expected value 0. Match? True\n",
      "Expected value 1. Match? True\n"
     ]
    }
   ],
   "source": [
    "prev_debug = debug\n",
    "debug = False\n",
    "print('Testing and verification of algorithm:')\n",
    "print('Expected value 0. Match? %s' % (0 == kak_3_stage(0)))\n",
    "print('Expected value 1. Match? %s' % (1 == kak_3_stage(1)))\n",
    "debug = prev_debug"
   ]
  },
  {
   "cell_type": "code",
   "execution_count": null,
   "id": "outer-country",
   "metadata": {},
   "outputs": [],
   "source": []
  }
 ],
 "metadata": {
  "kernelspec": {
   "display_name": "Python 3",
   "language": "python",
   "name": "python3"
  },
  "language_info": {
   "codemirror_mode": {
    "name": "ipython",
    "version": 3
   },
   "file_extension": ".py",
   "mimetype": "text/x-python",
   "name": "python",
   "nbconvert_exporter": "python",
   "pygments_lexer": "ipython3",
   "version": "3.9.1"
  }
 },
 "nbformat": 4,
 "nbformat_minor": 5
}
